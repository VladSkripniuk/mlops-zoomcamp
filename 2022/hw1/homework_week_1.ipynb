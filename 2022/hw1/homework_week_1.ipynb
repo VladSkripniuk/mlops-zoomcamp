{
 "cells": [
  {
   "cell_type": "code",
   "execution_count": 1,
   "id": "78faccd8-40ce-4d72-97fa-c2604770e5c2",
   "metadata": {},
   "outputs": [],
   "source": [
    "import pandas as pd"
   ]
  },
  {
   "cell_type": "code",
   "execution_count": 3,
   "id": "2d1c54c4-a870-47f0-8748-ef94e9c0d0ff",
   "metadata": {},
   "outputs": [],
   "source": [
    "df_jan = pd.read_parquet(\"fhv_tripdata_2023-01.parquet\")"
   ]
  },
  {
   "cell_type": "code",
   "execution_count": 4,
   "id": "0dd3ab36-626e-4877-bd71-2ba129718314",
   "metadata": {},
   "outputs": [],
   "source": [
    "df_feb = pd.read_parquet(\"fhv_tripdata_2021-02.parquet\")"
   ]
  },
  {
   "cell_type": "markdown",
   "id": "4bde8e93-c4f5-4769-abaf-c52350f9ec9e",
   "metadata": {},
   "source": [
    "### Question 1"
   ]
  },
  {
   "cell_type": "code",
   "execution_count": 6,
   "id": "ff41a0e5-0022-4b03-941e-f364916cfce4",
   "metadata": {},
   "outputs": [
    {
     "data": {
      "text/plain": [
       "(1154112, 7)"
      ]
     },
     "execution_count": 6,
     "metadata": {},
     "output_type": "execute_result"
    }
   ],
   "source": [
    "df_jan.shape"
   ]
  },
  {
   "cell_type": "markdown",
   "id": "a849567a-c41f-4396-9f85-444466bbf549",
   "metadata": {},
   "source": [
    "### Question 2"
   ]
  },
  {
   "cell_type": "code",
   "execution_count": 10,
   "id": "19fc9c20-8d5a-46bd-b6cc-04c4e5ecbc3a",
   "metadata": {},
   "outputs": [],
   "source": [
    "df_jan[\"duration\"] = df_jan.dropOff_datetime - df_jan.pickup_datetime"
   ]
  },
  {
   "cell_type": "code",
   "execution_count": 16,
   "id": "3662e5ed-cad1-4b84-ac88-2a40b689c5af",
   "metadata": {},
   "outputs": [],
   "source": [
    "df_jan.duration = df_jan.duration.apply(lambda td: td.total_seconds()/ 60)"
   ]
  },
  {
   "cell_type": "code",
   "execution_count": 17,
   "id": "c3dac814-93f2-4180-a890-6675f9113967",
   "metadata": {},
   "outputs": [
    {
     "data": {
      "text/plain": [
       "19.1672240937939"
      ]
     },
     "execution_count": 17,
     "metadata": {},
     "output_type": "execute_result"
    }
   ],
   "source": [
    "df_jan.duration.mean()"
   ]
  },
  {
   "cell_type": "code",
   "execution_count": 20,
   "id": "672d3877-2143-45da-b216-bdf282a72525",
   "metadata": {},
   "outputs": [
    {
     "data": {
      "text/plain": [
       "count    1.154112e+06\n",
       "mean     1.916722e+01\n",
       "std      3.986922e+02\n",
       "min      1.666667e-02\n",
       "25%      7.766667e+00\n",
       "50%      1.340000e+01\n",
       "75%      2.228333e+01\n",
       "max      4.233710e+05\n",
       "Name: duration, dtype: float64"
      ]
     },
     "execution_count": 20,
     "metadata": {},
     "output_type": "execute_result"
    }
   ],
   "source": [
    "df_jan.duration.describe()"
   ]
  },
  {
   "cell_type": "code",
   "execution_count": 22,
   "id": "a5d556b9-4268-4947-abf2-8dad6928bf21",
   "metadata": {},
   "outputs": [],
   "source": [
    "df_jan = df_jan[(df_jan.duration >= 1) & (df_jan.duration <= 60)]"
   ]
  },
  {
   "cell_type": "code",
   "execution_count": 23,
   "id": "4a27ed03-dd15-41bc-81bc-7a25b51d59b2",
   "metadata": {},
   "outputs": [
    {
     "data": {
      "text/plain": [
       "(1109826, 8)"
      ]
     },
     "execution_count": 23,
     "metadata": {},
     "output_type": "execute_result"
    }
   ],
   "source": [
    "df_jan.shape"
   ]
  },
  {
   "cell_type": "code",
   "execution_count": 24,
   "id": "ba6b6b2b-2c3f-4c29-aee3-efc6027bac1a",
   "metadata": {},
   "outputs": [
    {
     "data": {
      "text/plain": [
       "44286"
      ]
     },
     "execution_count": 24,
     "metadata": {},
     "output_type": "execute_result"
    }
   ],
   "source": [
    "1154112-1109826"
   ]
  },
  {
   "cell_type": "markdown",
   "id": "265ff9d7-e4fa-4a40-bea3-a5ee81a715c7",
   "metadata": {},
   "source": [
    "### Question 3"
   ]
  },
  {
   "cell_type": "code",
   "execution_count": 27,
   "id": "685eacd4-1718-437f-9640-80c3e54bf5c8",
   "metadata": {},
   "outputs": [
    {
     "data": {
      "text/plain": [
       "0.8352732770722617"
      ]
     },
     "execution_count": 27,
     "metadata": {},
     "output_type": "execute_result"
    }
   ],
   "source": [
    "df_jan.PUlocationID.isna().mean()"
   ]
  },
  {
   "cell_type": "code",
   "execution_count": 28,
   "id": "a69dd29f-eae7-46dc-828e-9dce15ddabdd",
   "metadata": {},
   "outputs": [
    {
     "name": "stderr",
     "output_type": "stream",
     "text": [
      "/tmp/ipykernel_68/707411870.py:1: SettingWithCopyWarning: \n",
      "A value is trying to be set on a copy of a slice from a DataFrame\n",
      "\n",
      "See the caveats in the documentation: https://pandas.pydata.org/pandas-docs/stable/user_guide/indexing.html#returning-a-view-versus-a-copy\n",
      "  df_jan.PUlocationID.fillna(value=-1, inplace=True)\n"
     ]
    }
   ],
   "source": [
    "df_jan.PUlocationID.fillna(value=-1, inplace=True)"
   ]
  },
  {
   "cell_type": "code",
   "execution_count": 30,
   "id": "782d3358-319b-4a10-8056-40e76d33595e",
   "metadata": {},
   "outputs": [
    {
     "name": "stderr",
     "output_type": "stream",
     "text": [
      "/tmp/ipykernel_68/189888362.py:1: SettingWithCopyWarning: \n",
      "A value is trying to be set on a copy of a slice from a DataFrame\n",
      "\n",
      "See the caveats in the documentation: https://pandas.pydata.org/pandas-docs/stable/user_guide/indexing.html#returning-a-view-versus-a-copy\n",
      "  df_jan.DOlocationID.fillna(value=-1, inplace=True)\n"
     ]
    }
   ],
   "source": [
    "df_jan.DOlocationID.fillna(value=-1, inplace=True)"
   ]
  },
  {
   "cell_type": "markdown",
   "id": "8da3e28e-4b19-4eee-a665-5cad8cd48741",
   "metadata": {},
   "source": [
    "### Question 4"
   ]
  },
  {
   "cell_type": "code",
   "execution_count": 41,
   "id": "461a44fc-7613-4e65-b311-1008795e5f72",
   "metadata": {},
   "outputs": [],
   "source": [
    "jan_dicts = df_jan[[\"DOlocationID\", \"PUlocationID\"]].astype(\"str\").to_dict(orient=\"records\")"
   ]
  },
  {
   "cell_type": "code",
   "execution_count": 35,
   "id": "1a763aec-e683-454f-9888-4bc34fe0c6e5",
   "metadata": {},
   "outputs": [],
   "source": [
    "from sklearn.feature_extraction import DictVectorizer"
   ]
  },
  {
   "cell_type": "code",
   "execution_count": 42,
   "id": "909017a3-d59e-4d33-b473-ac1c30187213",
   "metadata": {},
   "outputs": [],
   "source": [
    "dv = DictVectorizer()\n",
    "X_jan = dv.fit_transform(jan_dicts)"
   ]
  },
  {
   "cell_type": "code",
   "execution_count": 43,
   "id": "af8b58ac-9dfa-4a98-acca-cf61a7ea7088",
   "metadata": {},
   "outputs": [
    {
     "data": {
      "text/plain": [
       "<1109826x525 sparse matrix of type '<class 'numpy.float64'>'\n",
       "\twith 2219652 stored elements in Compressed Sparse Row format>"
      ]
     },
     "execution_count": 43,
     "metadata": {},
     "output_type": "execute_result"
    }
   ],
   "source": [
    "X_jan"
   ]
  },
  {
   "cell_type": "markdown",
   "id": "543aae39-82af-45e8-b928-f426c99fbf89",
   "metadata": {},
   "source": [
    "### Question 5"
   ]
  },
  {
   "cell_type": "code",
   "execution_count": 44,
   "id": "49c34670-328a-4aee-8b44-07ea049c5d12",
   "metadata": {},
   "outputs": [],
   "source": [
    "from sklearn.linear_model import LinearRegression"
   ]
  },
  {
   "cell_type": "code",
   "execution_count": 45,
   "id": "135609cd-7d16-4491-9dd9-064b71cd45e0",
   "metadata": {},
   "outputs": [],
   "source": [
    "from sklearn.metrics import mean_squared_error"
   ]
  },
  {
   "cell_type": "code",
   "execution_count": 46,
   "id": "b04b2049-409d-4e2e-8ad5-2ba11133eed4",
   "metadata": {},
   "outputs": [],
   "source": [
    "lr = LinearRegression()"
   ]
  },
  {
   "cell_type": "code",
   "execution_count": 48,
   "id": "7e4293c4-e6d8-4301-9e16-6c5c3e14e144",
   "metadata": {},
   "outputs": [
    {
     "data": {
      "text/plain": [
       "LinearRegression()"
      ]
     },
     "execution_count": 48,
     "metadata": {},
     "output_type": "execute_result"
    }
   ],
   "source": [
    "lr.fit(X_jan, df_jan.duration)"
   ]
  },
  {
   "cell_type": "code",
   "execution_count": 49,
   "id": "44c4b929-5938-4284-9478-c573a40cdfc8",
   "metadata": {},
   "outputs": [
    {
     "data": {
      "text/plain": [
       "10.528519107206316"
      ]
     },
     "execution_count": 49,
     "metadata": {},
     "output_type": "execute_result"
    }
   ],
   "source": [
    "mean_squared_error(lr.predict(X_jan), df_jan.duration, squared=False)"
   ]
  },
  {
   "cell_type": "markdown",
   "id": "f3d1d648-2c56-4437-9e58-07664b8d022b",
   "metadata": {},
   "source": [
    "### Question 6"
   ]
  },
  {
   "cell_type": "code",
   "execution_count": 53,
   "id": "f9af2e32-1036-4192-8820-c9e66da877bd",
   "metadata": {},
   "outputs": [],
   "source": [
    "df_feb[\"duration\"] = df_feb.dropOff_datetime - df_feb.pickup_datetime"
   ]
  },
  {
   "cell_type": "code",
   "execution_count": 54,
   "id": "02fb4a49-2784-488a-9bd2-78f353e85b62",
   "metadata": {},
   "outputs": [],
   "source": [
    "df_feb.duration = df_feb.duration.apply(lambda td: td.total_seconds()/ 60)"
   ]
  },
  {
   "cell_type": "code",
   "execution_count": 55,
   "id": "7c86a89a-e78a-439b-8513-8ff5ae9b625f",
   "metadata": {},
   "outputs": [
    {
     "data": {
      "text/plain": [
       "count    1.037692e+06\n",
       "mean     2.070699e+01\n",
       "std      1.611084e+02\n",
       "min      1.666667e-02\n",
       "25%      8.000000e+00\n",
       "50%      1.410000e+01\n",
       "75%      2.373333e+01\n",
       "max      1.109190e+05\n",
       "Name: duration, dtype: float64"
      ]
     },
     "execution_count": 55,
     "metadata": {},
     "output_type": "execute_result"
    }
   ],
   "source": [
    "df_feb.duration.describe()"
   ]
  },
  {
   "cell_type": "code",
   "execution_count": 57,
   "id": "07049bc3-83ca-4189-a25b-68c24b8a4c66",
   "metadata": {},
   "outputs": [],
   "source": [
    "df_feb.PUlocationID.fillna(value=-1, inplace=True)"
   ]
  },
  {
   "cell_type": "code",
   "execution_count": 58,
   "id": "cc24e477-cc72-47d1-ba9d-0d2b8d0f6f62",
   "metadata": {},
   "outputs": [],
   "source": [
    "df_feb.DOlocationID.fillna(value=-1, inplace=True)"
   ]
  },
  {
   "cell_type": "code",
   "execution_count": 64,
   "id": "443ffda3-5c9d-400f-bcdd-78438f3ff449",
   "metadata": {},
   "outputs": [],
   "source": [
    "df_feb = df_feb[(df_feb.duration >= 1) & (df_feb.duration <= 60)]"
   ]
  },
  {
   "cell_type": "code",
   "execution_count": 65,
   "id": "73bd5e92-31fc-4e28-884f-9933b66b95ca",
   "metadata": {},
   "outputs": [],
   "source": [
    "feb_dicts = df_feb[[\"DOlocationID\", \"PUlocationID\"]].astype(\"str\").to_dict(orient=\"records\")"
   ]
  },
  {
   "cell_type": "code",
   "execution_count": 66,
   "id": "68e96bde-0f1a-4d0f-b181-8f21f71203f0",
   "metadata": {},
   "outputs": [],
   "source": [
    "X_feb = dv.transform(feb_dicts)"
   ]
  },
  {
   "cell_type": "code",
   "execution_count": 67,
   "id": "1459602a-3619-4522-bc4d-501d7fd4e07f",
   "metadata": {},
   "outputs": [
    {
     "data": {
      "text/plain": [
       "11.014283149347039"
      ]
     },
     "execution_count": 67,
     "metadata": {},
     "output_type": "execute_result"
    }
   ],
   "source": [
    "mean_squared_error(lr.predict(X_feb), df_feb.duration, squared=False)"
   ]
  },
  {
   "cell_type": "code",
   "execution_count": null,
   "id": "7da95193-ba5b-4d86-afbd-4211f3e2b37e",
   "metadata": {},
   "outputs": [],
   "source": []
  }
 ],
 "metadata": {
  "kernelspec": {
   "display_name": "Python 3 (ipykernel)",
   "language": "python",
   "name": "python3"
  },
  "language_info": {
   "codemirror_mode": {
    "name": "ipython",
    "version": 3
   },
   "file_extension": ".py",
   "mimetype": "text/x-python",
   "name": "python",
   "nbconvert_exporter": "python",
   "pygments_lexer": "ipython3",
   "version": "3.9.12"
  }
 },
 "nbformat": 4,
 "nbformat_minor": 5
}
